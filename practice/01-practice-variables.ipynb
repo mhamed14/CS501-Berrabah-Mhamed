{
  "cells": [
    {
      "cell_type": "code",
      "execution_count": null,
      "id": "f99d9590-706d-4de3-94a9-be26d4b787f7",
      "metadata": {
        "id": "f99d9590-706d-4de3-94a9-be26d4b787f7"
      },
      "outputs": [],
      "source": [
        "# =======================================================================\n",
        "# Exercise: Variables in Python\n",
        "# Course: Deep Learning Complete Course (CS-501)\n",
        "#\n",
        "# Description: This notebook contains 20 questions/exercises to test\n",
        "#              your understanding of creating, naming, and using variables\n",
        "#              in Python.\n",
        "# © Copyright: Dr. Saad Laouadi\n",
        "# All Rights Reserved 🛡️\n",
        "# ======================================================================="
      ]
    },
    {
      "cell_type": "code",
      "source": [
        "# Q1: Create a variable named `age` and assign your age to it.\n",
        "# Your code here:\n",
        "age = 38"
      ],
      "metadata": {
        "id": "b2GLnFR2052w"
      },
      "id": "b2GLnFR2052w",
      "execution_count": 1,
      "outputs": []
    },
    {
      "cell_type": "code",
      "source": [
        "print (age)"
      ],
      "metadata": {
        "colab": {
          "base_uri": "https://localhost:8080/"
        },
        "id": "IJ6mqezC1Ezg",
        "outputId": "50910f13-fef5-441f-d723-5941b422eaf5"
      },
      "id": "IJ6mqezC1Ezg",
      "execution_count": 2,
      "outputs": [
        {
          "output_type": "stream",
          "name": "stdout",
          "text": [
            "38\n"
          ]
        }
      ]
    },
    {
      "cell_type": "code",
      "source": [
        "# Q2: Create two variables, `city` and `country`, and assign your city and country to them.\n",
        "# Your code here:\n",
        "city = \"Tiaret\"\n",
        "country = \"Algeria\""
      ],
      "metadata": {
        "id": "abxh2VkK1Jhf"
      },
      "id": "abxh2VkK1Jhf",
      "execution_count": 3,
      "outputs": []
    },
    {
      "cell_type": "code",
      "source": [
        "# Q3: Combine `city` and `country` into a single string `location` and print it.\n",
        "# Your code here:\n",
        "location = city +\" \" + country\n",
        "print (location)"
      ],
      "metadata": {
        "colab": {
          "base_uri": "https://localhost:8080/"
        },
        "id": "OQXjF7AE1OZP",
        "outputId": "4cf2d8dc-3775-4e72-d033-a945eb406835"
      },
      "id": "OQXjF7AE1OZP",
      "execution_count": 7,
      "outputs": [
        {
          "output_type": "stream",
          "name": "stdout",
          "text": [
            "Tiaret Algeria\n"
          ]
        }
      ]
    },
    {
      "cell_type": "code",
      "source": [
        "# Q4: Change the value of `age` to a different number and print it.\n",
        "# Your code here:\n",
        "age = 40\n",
        "print (age)"
      ],
      "metadata": {
        "colab": {
          "base_uri": "https://localhost:8080/"
        },
        "id": "vFSYVV-M1h3U",
        "outputId": "24e61e62-cefa-419c-85a4-e714087067c9"
      },
      "id": "vFSYVV-M1h3U",
      "execution_count": 9,
      "outputs": [
        {
          "output_type": "stream",
          "name": "stdout",
          "text": [
            "40\n"
          ]
        }
      ]
    },
    {
      "cell_type": "code",
      "source": [
        "# Q5: Create a variable `height` and assign a float value representing your height in meters.\n",
        "# Your code here:\n",
        "height = 1.70"
      ],
      "metadata": {
        "id": "QnaHOLSV1p6d"
      },
      "id": "QnaHOLSV1p6d",
      "execution_count": 10,
      "outputs": []
    },
    {
      "cell_type": "code",
      "source": [
        "# Q6: Check and print the data type of the `height` variable using the `type()` function.\n",
        "# Your code here:\n",
        "print (type (height))"
      ],
      "metadata": {
        "colab": {
          "base_uri": "https://localhost:8080/"
        },
        "id": "wo739IsB10u6",
        "outputId": "83002025-62f5-4683-968b-4699d4922953"
      },
      "id": "wo739IsB10u6",
      "execution_count": 11,
      "outputs": [
        {
          "output_type": "stream",
          "name": "stdout",
          "text": [
            "<class 'float'>\n"
          ]
        }
      ]
    },
    {
      "cell_type": "code",
      "source": [
        "# Q7: Assign the value `True` to a variable named `is_student` and print the variable.\n",
        "# Your code here:\n",
        "is_student = True\n",
        "print (is_student)"
      ],
      "metadata": {
        "colab": {
          "base_uri": "https://localhost:8080/"
        },
        "id": "vzd25c7U18XB",
        "outputId": "86fd9278-cd70-4ebb-d91e-22678e8eefa5"
      },
      "id": "vzd25c7U18XB",
      "execution_count": 12,
      "outputs": [
        {
          "output_type": "stream",
          "name": "stdout",
          "text": [
            "True\n"
          ]
        }
      ]
    },
    {
      "cell_type": "code",
      "source": [
        "# Q8: Create a variable `name` with your first name using double quotes and then another variable `surname` with your last name using single quotes. Combine them into `full_name`.\n",
        "# Your code here:\n",
        "name = \"berrabah\"\n",
        "surname = 'mhamed'\n",
        "full_name = name + \" \" + surname\n",
        "print (full_name)"
      ],
      "metadata": {
        "colab": {
          "base_uri": "https://localhost:8080/"
        },
        "id": "aS6TmmE82TLO",
        "outputId": "0cd5d5f9-be4c-4eb9-b7f8-fd7aa789fa8b"
      },
      "id": "aS6TmmE82TLO",
      "execution_count": 14,
      "outputs": [
        {
          "output_type": "stream",
          "name": "stdout",
          "text": [
            "berrabah mhamed\n"
          ]
        }
      ]
    },
    {
      "cell_type": "code",
      "source": [
        "from re import X\n",
        "# Q9: Create two variables `x` and `y` and assign them integer values. Swap their values without using a third variable.\n",
        "# Your code here:\n",
        "x = 1\n",
        "y = 3\n",
        "x,y=y,x\n",
        "print (x, y)"
      ],
      "metadata": {
        "colab": {
          "base_uri": "https://localhost:8080/"
        },
        "id": "jbWvoIA_24LX",
        "outputId": "45bfba32-662c-408f-f7ef-da156fb41966"
      },
      "id": "jbWvoIA_24LX",
      "execution_count": 16,
      "outputs": [
        {
          "output_type": "stream",
          "name": "stdout",
          "text": [
            "3 1\n"
          ]
        }
      ]
    },
    {
      "cell_type": "code",
      "source": [
        "# Q10: Write a statement to update the `age` variable by adding 5 to it.\n",
        "# Your code here:\n",
        "age +=5\n",
        "print (age)"
      ],
      "metadata": {
        "colab": {
          "base_uri": "https://localhost:8080/"
        },
        "id": "TR8vOXc_3UZb",
        "outputId": "3df4dc6d-c50d-4f45-d12b-d14e4ef93e24"
      },
      "id": "TR8vOXc_3UZb",
      "execution_count": 17,
      "outputs": [
        {
          "output_type": "stream",
          "name": "stdout",
          "text": [
            "45\n"
          ]
        }
      ]
    },
    {
      "cell_type": "code",
      "source": [
        "# Q11: Create a variable `length` and assign it the value 15. Create another variable `width` and assign it 10. Calculate the area of a rectangle using these variables and print the result.\n",
        "# Your code here:\n",
        "length = 15\n",
        "width = 10\n",
        "area = length * width\n",
        "print (area)\n"
      ],
      "metadata": {
        "colab": {
          "base_uri": "https://localhost:8080/"
        },
        "id": "0d885KMB3kbk",
        "outputId": "12d5068f-7cbc-44f2-85b7-2d6a4f84e0ae"
      },
      "id": "0d885KMB3kbk",
      "execution_count": 18,
      "outputs": [
        {
          "output_type": "stream",
          "name": "stdout",
          "text": [
            "150\n"
          ]
        }
      ]
    },
    {
      "cell_type": "code",
      "source": [
        "# Q12: Using the variables `base` and `height`, calculate the area of a triangle and print it. Assume `base = 8` and `height = 5`.\n",
        "# Your code here:\n",
        "base = 8\n",
        "height = 5\n",
        "area_triangle = base * height\n",
        "print (area_triangle)"
      ],
      "metadata": {
        "id": "V3gIHlRo7rRY",
        "outputId": "03483e17-d106-4116-cc03-12dc04b973c4",
        "colab": {
          "base_uri": "https://localhost:8080/"
        }
      },
      "id": "V3gIHlRo7rRY",
      "execution_count": 20,
      "outputs": [
        {
          "output_type": "stream",
          "name": "stdout",
          "text": [
            "40\n"
          ]
        }
      ]
    },
    {
      "cell_type": "code",
      "source": [
        "# Q13: Create a string variable `greeting` with the text \"Hello\" and another variable `recipient` with the text \"World\". Combine them with a space in between and print the result.\n",
        "# Your code here:\n",
        "greeting = \"Hello\"\n",
        "recipient = \"World\"\n",
        "Combine = greeting + \" \" + recipient\n",
        "print (Combine)"
      ],
      "metadata": {
        "id": "MELdNei5-oYB",
        "outputId": "4082073f-c0af-49bc-a0a9-413e99ba1d2f",
        "colab": {
          "base_uri": "https://localhost:8080/"
        }
      },
      "id": "MELdNei5-oYB",
      "execution_count": 21,
      "outputs": [
        {
          "output_type": "stream",
          "name": "stdout",
          "text": [
            "Hello World\n"
          ]
        }
      ]
    },
    {
      "cell_type": "code",
      "source": [
        "# Q14: Create a boolean variable `is_active` and set it to `False`. Then change its value to `True` and print it.\n",
        "# Your code here:\n"
      ],
      "metadata": {
        "id": "zOthNnWK_Rvh"
      },
      "id": "zOthNnWK_Rvh",
      "execution_count": null,
      "outputs": []
    },
    {
      "cell_type": "code",
      "execution_count": null,
      "id": "beb0983b-3b26-49b0-93d6-4386bd5cd49c",
      "metadata": {
        "id": "beb0983b-3b26-49b0-93d6-4386bd5cd49c"
      },
      "outputs": [],
      "source": [
        "\n",
        "\n",
        "# Q15: Using f-strings, print a formatted message: \"My name is [name] and I am [age] years old.\" Replace [name] and [age] with the appropriate variables.\n",
        "# Your code here:\n",
        "\n",
        "\n",
        "# Q16: Create a variable `pi` and assign it the value 3.14159. Print the variable, ensuring it only shows 2 decimal places.\n",
        "# Your code here:\n",
        "\n",
        "\n",
        "# Q17: Assign the value of a mathematical expression (e.g., `2 * (3 + 5)`) to a variable and print it.\n",
        "# Your code here:\n",
        "\n",
        "\n",
        "# Q18: Create a variable `sentence` and assign it a sentence of your choice. Use slicing to print the first 5 characters.\n",
        "# Your code here:\n",
        "\n",
        "\n",
        "# Q19: Create a variable `number` with the value 100. Use an arithmetic operation to double its value and then print it.\n",
        "# Your code here:\n",
        "\n",
        "\n",
        "# Q20: Declare three variables `a`, `b`, and `c` with values 5, 10, and 15 respectively. Calculate and print their average.\n",
        "# Your code here:\n",
        "\n",
        "\n",
        "# =======================================================================\n",
        "# End of Exercise\n",
        "# ======================================================================="
      ]
    },
    {
      "cell_type": "code",
      "source": [],
      "metadata": {
        "id": "VrcJgbPq0sXu"
      },
      "id": "VrcJgbPq0sXu",
      "execution_count": null,
      "outputs": []
    }
  ],
  "metadata": {
    "kernelspec": {
      "display_name": "Python3.12",
      "language": "python",
      "name": "python3"
    },
    "language_info": {
      "codemirror_mode": {
        "name": "ipython",
        "version": 3
      },
      "file_extension": ".py",
      "mimetype": "text/x-python",
      "name": "python",
      "nbconvert_exporter": "python",
      "pygments_lexer": "ipython3",
      "version": "3.12.3"
    },
    "colab": {
      "provenance": []
    }
  },
  "nbformat": 4,
  "nbformat_minor": 5
}